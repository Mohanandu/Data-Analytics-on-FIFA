{
  "metadata": {
    "kernelspec": {
      "language": "python",
      "display_name": "Python 3",
      "name": "python3"
    },
    "language_info": {
      "name": "python",
      "version": "3.11.11",
      "mimetype": "text/x-python",
      "codemirror_mode": {
        "name": "ipython",
        "version": 3
      },
      "pygments_lexer": "ipython3",
      "nbconvert_exporter": "python",
      "file_extension": ".py"
    },
    "kaggle": {
      "accelerator": "none",
      "dataSources": [
        {
          "sourceId": 3322096,
          "sourceType": "datasetVersion",
          "datasetId": 2008274
        }
      ],
      "dockerImageVersionId": 31012,
      "isInternetEnabled": true,
      "language": "python",
      "sourceType": "notebook",
      "isGpuEnabled": false
    },
    "colab": {
      "name": "bank customer prediction",
      "provenance": [],
      "include_colab_link": true
    }
  },
  "nbformat_minor": 0,
  "nbformat": 4,
  "cells": [
    {
      "cell_type": "markdown",
      "metadata": {
        "id": "view-in-github",
        "colab_type": "text"
      },
      "source": [
        "<a href=\"https://colab.research.google.com/github/Mohanandu/Data-Analytics-on-FIFA/blob/main/bank_customer_prediction.ipynb\" target=\"_parent\"><img src=\"https://colab.research.google.com/assets/colab-badge.svg\" alt=\"Open In Colab\"/></a>"
      ]
    },
    {
      "source": [
        "# IMPORTANT: RUN THIS CELL IN ORDER TO IMPORT YOUR KAGGLE DATA SOURCES,\n",
        "# THEN FEEL FREE TO DELETE THIS CELL.\n",
        "# NOTE: THIS NOTEBOOK ENVIRONMENT DIFFERS FROM KAGGLE'S PYTHON\n",
        "# ENVIRONMENT SO THERE MAY BE MISSING LIBRARIES USED BY YOUR\n",
        "# NOTEBOOK.\n",
        "import kagglehub\n",
        "shantanudhakadd_bank_customer_churn_prediction_path = kagglehub.dataset_download('shantanudhakadd/bank-customer-churn-prediction')\n",
        "\n",
        "print('Data source import complete.')\n"
      ],
      "metadata": {
        "id": "R25K6dLPMjrX"
      },
      "cell_type": "code",
      "outputs": [],
      "execution_count": null
    },
    {
      "cell_type": "code",
      "source": [
        "import numpy as np\n",
        "import pandas as pd\n",
        "import matplotlib.pyplot as plt\n",
        "import seaborn as sns\n",
        "import xgboost\n",
        "import sklearn\n",
        "from sklearn.model_selection import train_test_split\n",
        "from sklearn.preprocessing import MinMaxScaler\n",
        "from sklearn.preprocessing import StandardScaler\n",
        "from sklearn.ensemble import RandomForestClassifier\n",
        "from sklearn.model_selection import GridSearchCV\n",
        "from sklearn.metrics import f1_score\n",
        "from sklearn.metrics import roc_auc_score\n",
        "from sklearn.metrics import recall_score\n",
        "from sklearn.metrics import accuracy_score\n",
        "from sklearn.neighbors import KNeighborsClassifier\n",
        "from sklearn.svm import SVC\n",
        "from xgboost import XGBClassifier\n",
        "from sklearn.neural_network import MLPClassifier\n",
        "from sklearn.linear_model import LogisticRegression\n",
        "import warnings\n",
        "warnings.filterwarnings('ignore')"
      ],
      "metadata": {
        "_uuid": "8f2839f25d086af736a60e9eeb907d3b93b6e0e5",
        "_cell_guid": "b1076dfc-b9ad-4769-8c92-a6c4dae69d19",
        "trusted": true,
        "execution": {
          "iopub.status.busy": "2025-04-30T13:37:22.792089Z",
          "iopub.execute_input": "2025-04-30T13:37:22.792494Z",
          "iopub.status.idle": "2025-04-30T13:37:22.800678Z",
          "shell.execute_reply.started": "2025-04-30T13:37:22.792458Z",
          "shell.execute_reply": "2025-04-30T13:37:22.799118Z"
        },
        "id": "PojJuyuwMjrb"
      },
      "outputs": [],
      "execution_count": null
    },
    {
      "cell_type": "code",
      "source": [
        "random_state=42"
      ],
      "metadata": {
        "trusted": true,
        "execution": {
          "iopub.status.busy": "2025-04-30T12:31:22.395079Z",
          "iopub.execute_input": "2025-04-30T12:31:22.395628Z",
          "iopub.status.idle": "2025-04-30T12:31:22.412993Z",
          "shell.execute_reply.started": "2025-04-30T12:31:22.395597Z",
          "shell.execute_reply": "2025-04-30T12:31:22.411967Z"
        },
        "id": "X0QOz8FmMjrb"
      },
      "outputs": [],
      "execution_count": null
    },
    {
      "cell_type": "markdown",
      "source": [
        "# Data preprocessing"
      ],
      "metadata": {
        "id": "ZOQ3VedjMjrc"
      }
    },
    {
      "cell_type": "code",
      "source": [
        "df = pd.read_csv('/kaggle/input/bank-customer-churn-prediction/Churn_Modelling.csv')\n",
        "df.head()"
      ],
      "metadata": {
        "trusted": true,
        "execution": {
          "iopub.status.busy": "2025-04-30T14:02:01.772007Z",
          "iopub.execute_input": "2025-04-30T14:02:01.772324Z",
          "iopub.status.idle": "2025-04-30T14:02:01.807121Z",
          "shell.execute_reply.started": "2025-04-30T14:02:01.772303Z",
          "shell.execute_reply": "2025-04-30T14:02:01.806007Z"
        },
        "id": "_ouFCQF3Mjrd"
      },
      "outputs": [],
      "execution_count": null
    },
    {
      "cell_type": "code",
      "source": [
        "df = df.drop(['RowNumber', 'Surname', 'CustomerId'], axis=1)\n",
        "df.describe()"
      ],
      "metadata": {
        "trusted": true,
        "execution": {
          "iopub.status.busy": "2025-04-30T14:02:02.4502Z",
          "iopub.execute_input": "2025-04-30T14:02:02.450504Z",
          "iopub.status.idle": "2025-04-30T14:02:02.488555Z",
          "shell.execute_reply.started": "2025-04-30T14:02:02.450485Z",
          "shell.execute_reply": "2025-04-30T14:02:02.487367Z"
        },
        "id": "0_RjLV5eMjrd"
      },
      "outputs": [],
      "execution_count": null
    },
    {
      "cell_type": "code",
      "source": [
        "df.isna().sum()\n",
        "# We don't have any NaN"
      ],
      "metadata": {
        "trusted": true,
        "execution": {
          "iopub.status.busy": "2025-04-30T14:02:04.384532Z",
          "iopub.execute_input": "2025-04-30T14:02:04.384887Z",
          "iopub.status.idle": "2025-04-30T14:02:04.397316Z",
          "shell.execute_reply.started": "2025-04-30T14:02:04.384864Z",
          "shell.execute_reply": "2025-04-30T14:02:04.39606Z"
        },
        "id": "g520Ltu2Mjre"
      },
      "outputs": [],
      "execution_count": null
    },
    {
      "cell_type": "code",
      "source": [
        "exited = df['Exited'].value_counts()\n",
        "labels = ['False', 'True']\n",
        "plt.pie(exited, labels=labels, autopct='%1.1f%%')"
      ],
      "metadata": {
        "trusted": true,
        "execution": {
          "iopub.status.busy": "2025-04-30T14:02:05.729861Z",
          "iopub.execute_input": "2025-04-30T14:02:05.730149Z",
          "iopub.status.idle": "2025-04-30T14:02:05.840667Z",
          "shell.execute_reply.started": "2025-04-30T14:02:05.73013Z",
          "shell.execute_reply": "2025-04-30T14:02:05.839575Z"
        },
        "id": "yLPoirdXMjre"
      },
      "outputs": [],
      "execution_count": null
    },
    {
      "cell_type": "code",
      "source": [
        "# gender = df['Gender'].value_counts()\n",
        "# labels = ['False', 'True']\n",
        "# plt.pie(exited, labels=labels, autopct='%1.1f%%')\n",
        "df['Gender'].value_counts()"
      ],
      "metadata": {
        "trusted": true,
        "execution": {
          "iopub.status.busy": "2025-04-30T14:02:06.550261Z",
          "iopub.execute_input": "2025-04-30T14:02:06.550584Z",
          "iopub.status.idle": "2025-04-30T14:02:06.559983Z",
          "shell.execute_reply.started": "2025-04-30T14:02:06.550564Z",
          "shell.execute_reply": "2025-04-30T14:02:06.559003Z"
        },
        "id": "GW9f7lk5Mjrf"
      },
      "outputs": [],
      "execution_count": null
    },
    {
      "cell_type": "code",
      "source": [
        "df = pd.get_dummies(df, dtype=np.int64)\n",
        "df.head()"
      ],
      "metadata": {
        "trusted": true,
        "execution": {
          "iopub.status.busy": "2025-04-30T14:02:08.460543Z",
          "iopub.execute_input": "2025-04-30T14:02:08.460905Z",
          "iopub.status.idle": "2025-04-30T14:02:08.48527Z",
          "shell.execute_reply.started": "2025-04-30T14:02:08.460879Z",
          "shell.execute_reply": "2025-04-30T14:02:08.483714Z"
        },
        "id": "1P1HHOtuMjrf"
      },
      "outputs": [],
      "execution_count": null
    },
    {
      "cell_type": "code",
      "source": [
        "df['BalanceSalaryRatio'] = df['Balance'] / df['EstimatedSalary']\n",
        "df.drop(['Balance', 'EstimatedSalary'], axis=1, inplace=True)"
      ],
      "metadata": {
        "trusted": true,
        "execution": {
          "iopub.status.busy": "2025-04-30T14:02:13.461253Z",
          "iopub.execute_input": "2025-04-30T14:02:13.461666Z",
          "iopub.status.idle": "2025-04-30T14:02:13.470656Z",
          "shell.execute_reply.started": "2025-04-30T14:02:13.461639Z",
          "shell.execute_reply": "2025-04-30T14:02:13.469622Z"
        },
        "id": "mTMFAzZkMjrg"
      },
      "outputs": [],
      "execution_count": null
    },
    {
      "cell_type": "code",
      "source": [
        "corr_mat = df.corr()\n",
        "plt.figure(figsize=(10, 5))\n",
        "sns.set(font_scale=0.7)\n",
        "sns.heatmap(corr_mat, annot=True, cmap='coolwarm')\n",
        "plt.title('Correlation matrix')\n",
        "plt.show()"
      ],
      "metadata": {
        "trusted": true,
        "execution": {
          "iopub.status.busy": "2025-04-30T14:02:14.225349Z",
          "iopub.execute_input": "2025-04-30T14:02:14.225815Z",
          "iopub.status.idle": "2025-04-30T14:02:15.170215Z",
          "shell.execute_reply.started": "2025-04-30T14:02:14.225739Z",
          "shell.execute_reply": "2025-04-30T14:02:15.16931Z"
        },
        "id": "ROohVzoGMjrg"
      },
      "outputs": [],
      "execution_count": null
    },
    {
      "cell_type": "code",
      "source": [
        "Y = df['Exited']\n",
        "X = df.drop('Exited', axis=1)"
      ],
      "metadata": {
        "trusted": true,
        "execution": {
          "iopub.status.busy": "2025-04-30T14:02:16.004622Z",
          "iopub.execute_input": "2025-04-30T14:02:16.005331Z",
          "iopub.status.idle": "2025-04-30T14:02:16.011698Z",
          "shell.execute_reply.started": "2025-04-30T14:02:16.005303Z",
          "shell.execute_reply": "2025-04-30T14:02:16.010593Z"
        },
        "id": "GvYwJ_kgMjrg"
      },
      "outputs": [],
      "execution_count": null
    },
    {
      "cell_type": "code",
      "source": [
        "scaler = StandardScaler()\n",
        "X = scaler.fit_transform(X)"
      ],
      "metadata": {
        "trusted": true,
        "execution": {
          "iopub.status.busy": "2025-04-30T14:02:17.786663Z",
          "iopub.execute_input": "2025-04-30T14:02:17.787009Z",
          "iopub.status.idle": "2025-04-30T14:02:17.800644Z",
          "shell.execute_reply.started": "2025-04-30T14:02:17.786986Z",
          "shell.execute_reply": "2025-04-30T14:02:17.799276Z"
        },
        "id": "kVs3tZZkMjrg"
      },
      "outputs": [],
      "execution_count": null
    },
    {
      "cell_type": "code",
      "source": [
        "x_train, x_test, y_train, y_test = train_test_split(X, Y, test_size=0.2, random_state=random_state)"
      ],
      "metadata": {
        "trusted": true,
        "execution": {
          "iopub.status.busy": "2025-04-30T14:02:18.44073Z",
          "iopub.execute_input": "2025-04-30T14:02:18.441752Z",
          "iopub.status.idle": "2025-04-30T14:02:18.449725Z",
          "shell.execute_reply.started": "2025-04-30T14:02:18.441718Z",
          "shell.execute_reply": "2025-04-30T14:02:18.448553Z"
        },
        "id": "tK2zl2e0Mjrh"
      },
      "outputs": [],
      "execution_count": null
    },
    {
      "cell_type": "markdown",
      "source": [
        "# Estimators"
      ],
      "metadata": {
        "id": "ugqf5hEcMjrh"
      }
    },
    {
      "cell_type": "markdown",
      "source": [
        "## Random forest"
      ],
      "metadata": {
        "id": "LQxXGuTEMjrh"
      }
    },
    {
      "cell_type": "code",
      "source": [
        "random_forest_sklearn = RandomForestClassifier()\n",
        "param_grid = {\n",
        "    'n_estimators': [100, 200, 1000],\n",
        "    'max_depth': [10, 15, 20, 30],\n",
        "    'min_samples_split': [2, 5, 10],\n",
        "    'min_samples_leaf': [1, 2, 5, 10],\n",
        "    'class_weight': ['balanced'],\n",
        "    'random_state': [random_state]\n",
        "}\n",
        "\n",
        "grid_search = GridSearchCV(estimator=random_forest_sklearn, param_grid=param_grid, n_jobs=4)\n",
        "grid_search.fit(x_train, y_train)"
      ],
      "metadata": {
        "trusted": true,
        "execution": {
          "iopub.status.busy": "2025-04-30T12:46:44.574835Z",
          "iopub.execute_input": "2025-04-30T12:46:44.575181Z",
          "iopub.status.idle": "2025-04-30T13:00:15.942038Z",
          "shell.execute_reply.started": "2025-04-30T12:46:44.575158Z",
          "shell.execute_reply": "2025-04-30T13:00:15.94105Z"
        },
        "id": "tMB0qeI4Mjrh"
      },
      "outputs": [],
      "execution_count": null
    },
    {
      "cell_type": "code",
      "source": [
        "best_params = grid_search.best_params_\n",
        "best_params"
      ],
      "metadata": {
        "trusted": true,
        "execution": {
          "iopub.status.busy": "2025-04-30T13:00:15.943512Z",
          "iopub.execute_input": "2025-04-30T13:00:15.944232Z",
          "iopub.status.idle": "2025-04-30T13:00:15.949204Z",
          "shell.execute_reply.started": "2025-04-30T13:00:15.944208Z",
          "shell.execute_reply": "2025-04-30T13:00:15.948338Z"
        },
        "id": "JQIT3J63Mjrh"
      },
      "outputs": [],
      "execution_count": null
    },
    {
      "cell_type": "code",
      "source": [
        "y_pred = grid_search.predict(x_test)\n",
        "roc_auc_score(y_test, y_pred)"
      ],
      "metadata": {
        "trusted": true,
        "execution": {
          "iopub.status.busy": "2025-04-30T13:00:15.949976Z",
          "iopub.execute_input": "2025-04-30T13:00:15.950318Z",
          "iopub.status.idle": "2025-04-30T13:00:16.422664Z",
          "shell.execute_reply.started": "2025-04-30T13:00:15.950297Z",
          "shell.execute_reply": "2025-04-30T13:00:16.421857Z"
        },
        "id": "8Wexf5c1Mjrh"
      },
      "outputs": [],
      "execution_count": null
    },
    {
      "cell_type": "code",
      "source": [
        "accuracy_score(y_test, y_pred)"
      ],
      "metadata": {
        "trusted": true,
        "execution": {
          "iopub.status.busy": "2025-04-30T13:00:16.424065Z",
          "iopub.execute_input": "2025-04-30T13:00:16.424512Z",
          "iopub.status.idle": "2025-04-30T13:00:16.432566Z",
          "shell.execute_reply.started": "2025-04-30T13:00:16.424488Z",
          "shell.execute_reply": "2025-04-30T13:00:16.431565Z"
        },
        "id": "YDi4l7PaMjrh"
      },
      "outputs": [],
      "execution_count": null
    },
    {
      "cell_type": "code",
      "source": [
        "recall_score(y_test, y_pred)"
      ],
      "metadata": {
        "trusted": true,
        "execution": {
          "iopub.status.busy": "2025-04-30T13:00:16.433468Z",
          "iopub.execute_input": "2025-04-30T13:00:16.433741Z",
          "iopub.status.idle": "2025-04-30T13:00:16.451077Z",
          "shell.execute_reply.started": "2025-04-30T13:00:16.433721Z",
          "shell.execute_reply": "2025-04-30T13:00:16.450137Z"
        },
        "id": "MzypRIP4Mjrh"
      },
      "outputs": [],
      "execution_count": null
    },
    {
      "cell_type": "markdown",
      "source": [
        "### But what if we try to optimize and take only 200 estimators\n"
      ],
      "metadata": {
        "id": "hkNi2qfBMjrh"
      }
    },
    {
      "cell_type": "code",
      "source": [
        "random_forest_sklearn = RandomForestClassifier()\n",
        "param_grid = {\n",
        "    'n_estimators': [200],\n",
        "    'max_depth': [10, 15, 20, 30],\n",
        "    'min_samples_split': [2, 5, 10],\n",
        "    'min_samples_leaf': [1, 2, 5, 10],\n",
        "    'class_weight': ['balanced'],\n",
        "    'random_state': [random_state]\n",
        "}\n",
        "\n",
        "grid_search_200 = GridSearchCV(estimator=random_forest_sklearn, param_grid=param_grid, n_jobs=4)\n",
        "grid_search_200.fit(x_train, y_train)"
      ],
      "metadata": {
        "trusted": true,
        "execution": {
          "iopub.status.busy": "2025-04-30T13:09:17.596525Z",
          "iopub.execute_input": "2025-04-30T13:09:17.597059Z",
          "iopub.status.idle": "2025-04-30T13:11:26.626191Z",
          "shell.execute_reply.started": "2025-04-30T13:09:17.597033Z",
          "shell.execute_reply": "2025-04-30T13:11:26.624896Z"
        },
        "id": "YR8AEc86Mjrh"
      },
      "outputs": [],
      "execution_count": null
    },
    {
      "cell_type": "code",
      "source": [
        "y_pred = grid_search_200.predict(x_test)\n",
        "roc_auc_score(y_test, y_pred)"
      ],
      "metadata": {
        "trusted": true,
        "execution": {
          "iopub.status.busy": "2025-04-30T13:11:39.792115Z",
          "iopub.execute_input": "2025-04-30T13:11:39.792447Z",
          "iopub.status.idle": "2025-04-30T13:11:39.903885Z",
          "shell.execute_reply.started": "2025-04-30T13:11:39.792424Z",
          "shell.execute_reply": "2025-04-30T13:11:39.901978Z"
        },
        "id": "95QJrAyeMjri"
      },
      "outputs": [],
      "execution_count": null
    },
    {
      "cell_type": "code",
      "source": [
        "accuracy_score(y_test, y_pred)"
      ],
      "metadata": {
        "trusted": true,
        "execution": {
          "iopub.status.busy": "2025-04-30T13:11:41.693491Z",
          "iopub.execute_input": "2025-04-30T13:11:41.693841Z",
          "iopub.status.idle": "2025-04-30T13:11:41.70261Z",
          "shell.execute_reply.started": "2025-04-30T13:11:41.693817Z",
          "shell.execute_reply": "2025-04-30T13:11:41.701313Z"
        },
        "id": "NFoGPL3eMjri"
      },
      "outputs": [],
      "execution_count": null
    },
    {
      "cell_type": "code",
      "source": [
        "recall_score(y_test, y_pred)"
      ],
      "metadata": {
        "trusted": true,
        "execution": {
          "iopub.status.busy": "2025-04-30T13:11:43.03963Z",
          "iopub.execute_input": "2025-04-30T13:11:43.040025Z",
          "iopub.status.idle": "2025-04-30T13:11:43.05139Z",
          "shell.execute_reply.started": "2025-04-30T13:11:43.040001Z",
          "shell.execute_reply": "2025-04-30T13:11:43.050289Z"
        },
        "id": "gPFBwSy0Mjri"
      },
      "outputs": [],
      "execution_count": null
    },
    {
      "cell_type": "markdown",
      "source": [
        "200 estimators isn't much worse, but now we'll look at feature importance for 1000 estimators version"
      ],
      "metadata": {
        "id": "qsCqqjyFMjri"
      }
    },
    {
      "cell_type": "code",
      "source": [
        "feature_importances = pd.DataFrame(columns=df.drop('Exited', axis=1).columns, data=[grid_search.best_estimator_.feature_importances_])\n",
        "feature_importances.head()"
      ],
      "metadata": {
        "trusted": true,
        "execution": {
          "iopub.status.busy": "2025-04-30T13:12:45.78654Z",
          "iopub.execute_input": "2025-04-30T13:12:45.787473Z",
          "iopub.status.idle": "2025-04-30T13:12:45.883428Z",
          "shell.execute_reply.started": "2025-04-30T13:12:45.787441Z",
          "shell.execute_reply": "2025-04-30T13:12:45.882361Z"
        },
        "id": "3tRmBgNQMjri"
      },
      "outputs": [],
      "execution_count": null
    },
    {
      "cell_type": "markdown",
      "source": [
        "## SVC"
      ],
      "metadata": {
        "id": "Kb-WgWfXMjri"
      }
    },
    {
      "cell_type": "code",
      "source": [
        "svc = SVC(kernel='poly', degree=7, random_state=random_state)\n",
        "svc.fit(x_train, y_train)"
      ],
      "metadata": {
        "trusted": true,
        "execution": {
          "iopub.status.busy": "2025-04-30T12:33:29.128908Z",
          "iopub.execute_input": "2025-04-30T12:33:29.12917Z",
          "iopub.status.idle": "2025-04-30T12:33:31.070472Z",
          "shell.execute_reply.started": "2025-04-30T12:33:29.12914Z",
          "shell.execute_reply": "2025-04-30T12:33:31.06959Z"
        },
        "id": "QVmm_nRZMjri"
      },
      "outputs": [],
      "execution_count": null
    },
    {
      "cell_type": "code",
      "source": [
        "y_pred = svc.predict(x_test)\n",
        "roc_auc_score(y_test, y_pred)"
      ],
      "metadata": {
        "trusted": true,
        "execution": {
          "iopub.status.busy": "2025-04-30T12:33:31.07132Z",
          "iopub.execute_input": "2025-04-30T12:33:31.071549Z",
          "iopub.status.idle": "2025-04-30T12:33:31.262451Z",
          "shell.execute_reply.started": "2025-04-30T12:33:31.071532Z",
          "shell.execute_reply": "2025-04-30T12:33:31.261618Z"
        },
        "id": "wRVITEDcMjrj"
      },
      "outputs": [],
      "execution_count": null
    },
    {
      "cell_type": "code",
      "source": [
        "accuracy_score(y_test, y_pred)"
      ],
      "metadata": {
        "trusted": true,
        "execution": {
          "iopub.status.busy": "2025-04-30T12:33:31.263486Z",
          "iopub.execute_input": "2025-04-30T12:33:31.263752Z",
          "iopub.status.idle": "2025-04-30T12:33:31.271187Z",
          "shell.execute_reply.started": "2025-04-30T12:33:31.263725Z",
          "shell.execute_reply": "2025-04-30T12:33:31.2701Z"
        },
        "id": "zVvR3NH4Mjrj"
      },
      "outputs": [],
      "execution_count": null
    },
    {
      "cell_type": "code",
      "source": [
        "recall_score(y_test, y_pred)"
      ],
      "metadata": {
        "trusted": true,
        "execution": {
          "iopub.status.busy": "2025-04-30T12:33:31.272151Z",
          "iopub.execute_input": "2025-04-30T12:33:31.272427Z",
          "iopub.status.idle": "2025-04-30T12:33:31.298451Z",
          "shell.execute_reply.started": "2025-04-30T12:33:31.272402Z",
          "shell.execute_reply": "2025-04-30T12:33:31.297229Z"
        },
        "id": "ODTV2BttMjrj"
      },
      "outputs": [],
      "execution_count": null
    },
    {
      "cell_type": "markdown",
      "source": [
        "## XGBoost"
      ],
      "metadata": {
        "id": "GRHs3CsEMjrj"
      }
    },
    {
      "cell_type": "code",
      "source": [
        "xgb = XGBClassifier()\n",
        "param_grid = {\n",
        "    'n_estimators': [100, 200],\n",
        "    'max_depth': [10, 15, 20, 30],\n",
        "    'learning_rate': [1e-3, 5e-2, 1e-2, 5e-1],\n",
        "    'random_state': [random_state]\n",
        "}\n",
        "\n",
        "grid_search_xgb = GridSearchCV(estimator=xgb, param_grid=param_grid, n_jobs=4)\n",
        "grid_search_xgb.fit(x_train, y_train)\n",
        "\n",
        "y_pred = grid_search_xgb.predict(x_test)\n",
        "roc_auc_score(y_test, y_pred)"
      ],
      "metadata": {
        "trusted": true,
        "execution": {
          "iopub.status.busy": "2025-04-30T12:33:31.299314Z",
          "iopub.execute_input": "2025-04-30T12:33:31.299628Z",
          "iopub.status.idle": "2025-04-30T12:34:28.665093Z",
          "shell.execute_reply.started": "2025-04-30T12:33:31.299607Z",
          "shell.execute_reply": "2025-04-30T12:34:28.664166Z"
        },
        "id": "j8PSXHv4Mjrk"
      },
      "outputs": [],
      "execution_count": null
    },
    {
      "cell_type": "code",
      "source": [
        "feature_importances = pd.DataFrame(columns=df.drop('Exited', axis=1).columns, data=[grid_search_xgb.best_estimator_.feature_importances_])\n",
        "feature_importances.head()"
      ],
      "metadata": {
        "trusted": true,
        "execution": {
          "iopub.status.busy": "2025-04-30T12:34:28.666127Z",
          "iopub.execute_input": "2025-04-30T12:34:28.666473Z",
          "iopub.status.idle": "2025-04-30T12:34:28.684882Z",
          "shell.execute_reply.started": "2025-04-30T12:34:28.666431Z",
          "shell.execute_reply": "2025-04-30T12:34:28.683946Z"
        },
        "id": "m7HoJoPoMjrk"
      },
      "outputs": [],
      "execution_count": null
    },
    {
      "cell_type": "code",
      "source": [
        "accuracy_score(y_test, y_pred)"
      ],
      "metadata": {
        "trusted": true,
        "execution": {
          "iopub.status.busy": "2025-04-30T12:34:28.685692Z",
          "iopub.execute_input": "2025-04-30T12:34:28.686387Z",
          "iopub.status.idle": "2025-04-30T12:34:28.69354Z",
          "shell.execute_reply.started": "2025-04-30T12:34:28.686357Z",
          "shell.execute_reply": "2025-04-30T12:34:28.692593Z"
        },
        "id": "uKbNoA2pMjrk"
      },
      "outputs": [],
      "execution_count": null
    },
    {
      "cell_type": "code",
      "source": [
        "recall_score(y_test, y_pred)"
      ],
      "metadata": {
        "trusted": true,
        "execution": {
          "iopub.status.busy": "2025-04-30T12:34:28.69467Z",
          "iopub.execute_input": "2025-04-30T12:34:28.694967Z",
          "iopub.status.idle": "2025-04-30T12:34:28.715807Z",
          "shell.execute_reply.started": "2025-04-30T12:34:28.694946Z",
          "shell.execute_reply": "2025-04-30T12:34:28.714986Z"
        },
        "id": "p5G79p7wMjrk"
      },
      "outputs": [],
      "execution_count": null
    },
    {
      "cell_type": "code",
      "source": [
        "grid_search_xgb.best_params_"
      ],
      "metadata": {
        "trusted": true,
        "execution": {
          "iopub.status.busy": "2025-04-30T12:34:28.716722Z",
          "iopub.execute_input": "2025-04-30T12:34:28.717159Z",
          "iopub.status.idle": "2025-04-30T12:34:28.732922Z",
          "shell.execute_reply.started": "2025-04-30T12:34:28.717133Z",
          "shell.execute_reply": "2025-04-30T12:34:28.731862Z"
        },
        "id": "l2g4FCuEMjrp"
      },
      "outputs": [],
      "execution_count": null
    },
    {
      "cell_type": "markdown",
      "source": [
        "## MLP"
      ],
      "metadata": {
        "id": "NNkKZrnJMjrp"
      }
    },
    {
      "cell_type": "code",
      "source": [
        "mlp = MLPClassifier()\n",
        "param_grid = {\n",
        "    'hidden_layer_sizes': [24, 32, 64, 128],\n",
        "    'solver': ['adam'],\n",
        "    'alpha': [1e-4, 5e-3, 1e-3],\n",
        "    'learning_rate': ['adaptive'],\n",
        "    'learning_rate_init': [1e-2, 5e-2, 1e-3],\n",
        "    'early_stopping': [True],\n",
        "    'random_state': [random_state]\n",
        "}\n",
        "\n",
        "grid_search_mlp = GridSearchCV(estimator=mlp, param_grid=param_grid, n_jobs=4)\n",
        "grid_search_mlp.fit(x_train, y_train)\n",
        "\n",
        "y_pred = grid_search_mlp.predict(x_test)\n",
        "roc_auc_score(y_test, y_pred)"
      ],
      "metadata": {
        "trusted": true,
        "execution": {
          "iopub.status.busy": "2025-04-30T12:34:28.73418Z",
          "iopub.execute_input": "2025-04-30T12:34:28.734484Z",
          "iopub.status.idle": "2025-04-30T12:35:10.327016Z",
          "shell.execute_reply.started": "2025-04-30T12:34:28.734453Z",
          "shell.execute_reply": "2025-04-30T12:35:10.326057Z"
        },
        "id": "FVggBa3VMjrp"
      },
      "outputs": [],
      "execution_count": null
    },
    {
      "cell_type": "code",
      "source": [
        "accuracy_score(y_test, y_pred)"
      ],
      "metadata": {
        "trusted": true,
        "execution": {
          "iopub.status.busy": "2025-04-30T12:35:10.330487Z",
          "iopub.execute_input": "2025-04-30T12:35:10.330795Z",
          "iopub.status.idle": "2025-04-30T12:35:10.33898Z",
          "shell.execute_reply.started": "2025-04-30T12:35:10.33075Z",
          "shell.execute_reply": "2025-04-30T12:35:10.338085Z"
        },
        "id": "iACKGUmkMjrq"
      },
      "outputs": [],
      "execution_count": null
    },
    {
      "cell_type": "code",
      "source": [
        "recall_score(y_test, y_pred)"
      ],
      "metadata": {
        "trusted": true,
        "execution": {
          "iopub.status.busy": "2025-04-30T12:35:10.340016Z",
          "iopub.execute_input": "2025-04-30T12:35:10.340393Z",
          "iopub.status.idle": "2025-04-30T12:35:10.362024Z",
          "shell.execute_reply.started": "2025-04-30T12:35:10.340364Z",
          "shell.execute_reply": "2025-04-30T12:35:10.361175Z"
        },
        "id": "LEoz8LSaMjrq"
      },
      "outputs": [],
      "execution_count": null
    },
    {
      "cell_type": "code",
      "source": [
        "grid_search_mlp.best_params_"
      ],
      "metadata": {
        "trusted": true,
        "execution": {
          "iopub.status.busy": "2025-04-30T12:35:10.363048Z",
          "iopub.execute_input": "2025-04-30T12:35:10.363376Z",
          "iopub.status.idle": "2025-04-30T12:35:10.376722Z",
          "shell.execute_reply.started": "2025-04-30T12:35:10.363349Z",
          "shell.execute_reply": "2025-04-30T12:35:10.37582Z"
        },
        "id": "s9Uwd0x1Mjrq"
      },
      "outputs": [],
      "execution_count": null
    },
    {
      "cell_type": "markdown",
      "source": [
        "## Logistic regression with L1"
      ],
      "metadata": {
        "id": "9chc22xdMjrq"
      }
    },
    {
      "cell_type": "code",
      "source": [
        "logi = LogisticRegression(penalty='l1', class_weight='balanced', solver='liblinear', C=0.01, random_state=random_state)\n",
        "logi.fit(x_train, y_train)\n",
        "y_pred = logi.predict(x_test)"
      ],
      "metadata": {
        "trusted": true,
        "execution": {
          "iopub.status.busy": "2025-04-30T14:02:25.545237Z",
          "iopub.execute_input": "2025-04-30T14:02:25.545574Z",
          "iopub.status.idle": "2025-04-30T14:02:25.567196Z",
          "shell.execute_reply.started": "2025-04-30T14:02:25.545551Z",
          "shell.execute_reply": "2025-04-30T14:02:25.565902Z"
        },
        "id": "-UdNYbHbMjrq"
      },
      "outputs": [],
      "execution_count": null
    },
    {
      "cell_type": "code",
      "source": [
        "accuracy_score(y_test, y_pred)"
      ],
      "metadata": {
        "trusted": true,
        "execution": {
          "iopub.status.busy": "2025-04-30T14:02:27.197408Z",
          "iopub.execute_input": "2025-04-30T14:02:27.19783Z",
          "iopub.status.idle": "2025-04-30T14:02:27.207661Z",
          "shell.execute_reply.started": "2025-04-30T14:02:27.197799Z",
          "shell.execute_reply": "2025-04-30T14:02:27.206513Z"
        },
        "id": "AxdjE5RxMjrq"
      },
      "outputs": [],
      "execution_count": null
    },
    {
      "cell_type": "code",
      "source": [
        "recall_score(y_test, y_pred)"
      ],
      "metadata": {
        "trusted": true,
        "execution": {
          "iopub.status.busy": "2025-04-30T14:02:27.970469Z",
          "iopub.execute_input": "2025-04-30T14:02:27.970861Z",
          "iopub.status.idle": "2025-04-30T14:02:27.982899Z",
          "shell.execute_reply.started": "2025-04-30T14:02:27.970835Z",
          "shell.execute_reply": "2025-04-30T14:02:27.981646Z"
        },
        "id": "C8BPDp4wMjrq"
      },
      "outputs": [],
      "execution_count": null
    },
    {
      "cell_type": "code",
      "source": [
        "feature_importances = pd.DataFrame(columns=df.drop('Exited', axis=1).columns, data=logi.coef_)\n",
        "feature_importances.head()"
      ],
      "metadata": {
        "trusted": true,
        "execution": {
          "iopub.status.busy": "2025-04-30T14:02:29.051964Z",
          "iopub.execute_input": "2025-04-30T14:02:29.05236Z",
          "iopub.status.idle": "2025-04-30T14:02:29.069942Z",
          "shell.execute_reply.started": "2025-04-30T14:02:29.052332Z",
          "shell.execute_reply": "2025-04-30T14:02:29.068567Z"
        },
        "id": "ztl29y-VMjrq"
      },
      "outputs": [],
      "execution_count": null
    },
    {
      "cell_type": "markdown",
      "source": [
        "# Conclusion\n",
        "## Why recall?\n",
        "    Recall's really important metric for this task because recall shows, how many positives from all positives we've detected and we need to detect as much customers, that'll potentially leave, as possible, and it's better for us because it's more important to retain client than anything else\n",
        "## Classifier model\n",
        "- RandomForestClassifier's shown accuracy of 0.87 and recall of 0.46 that means almost half of positives (customer's exited) have been detected\n",
        "- The best parameters for classifier is:\n",
        "- 1. class_weight = balanced\n",
        "  2. max_depth = 20\n",
        "  3. min_samples_leaf = 1\n",
        "  4. min_samples_split = 2\n",
        "  5. n_estimators = 1000\n",
        "- LogisticRegression's shown best performance among all classifiers on recall (0.75), but accuracy's a bit lower (0.7). I think that this estimator's much better because of high recall increase and relatively small accuracy decrease.\n",
        "## Features\n",
        "- Adding new feature \"BalanceSalaryRatio\" and removing correlating \"Balance\" and \"EstimatedSalary\" improves model's performance\n",
        "- Top 3 most important features are:\n",
        "- 1. Age (0.28)\n",
        "  2. CreditScore (0.18)\n",
        "  3. BalanceSalaryRatio (0.16)\n",
        "- But if we use Logistic Regression with L1 penalty:\n",
        "- 1. Age (0.7)\n",
        "  2. Geography_Germany (means that client's from Germany) (0.3)\n",
        "  3. IsActiveMember (-0.37) (inverse proportionality)\n",
        "- All in all, because LogisticRegression's shown better results, hence, I'll base my conclusions on it.\n",
        "- The most important features are:\n",
        "- 1. Age\n",
        "  2. Geography_Germany\n",
        "  3. IsActiveMember\n",
        "  \n",
        "## Experiments\n",
        "- I tried RandomForest with different n_estimators and here's the results of 2 experiments:\n",
        "  1. With n_estimators = 200: accuracy = 0.867, recall = 0.46\n",
        "  2. With n_estimators = 1000: accuracy = 0.8675, recall = 0.46\n"
      ],
      "metadata": {
        "id": "E8yJQeE8Mjrq"
      }
    }
  ]
}